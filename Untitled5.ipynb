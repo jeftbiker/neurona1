{
  "nbformat": 4,
  "nbformat_minor": 0,
  "metadata": {
    "colab": {
      "provenance": [],
      "authorship_tag": "ABX9TyPXztBDaAqEe0suu8exwBTY",
      "include_colab_link": true
    },
    "kernelspec": {
      "name": "python3",
      "display_name": "Python 3"
    },
    "language_info": {
      "name": "python"
    }
  },
  "cells": [
    {
      "cell_type": "markdown",
      "metadata": {
        "id": "view-in-github",
        "colab_type": "text"
      },
      "source": [
        "<a href=\"https://colab.research.google.com/github/jeftbiker/neurona1/blob/main/Untitled5.ipynb\" target=\"_parent\"><img src=\"https://colab.research.google.com/assets/colab-badge.svg\" alt=\"Open In Colab\"/></a>"
      ]
    },
    {
      "cell_type": "code",
      "execution_count": 7,
      "metadata": {
        "colab": {
          "base_uri": "https://localhost:8080/"
        },
        "id": "A3u8qE60lV4x",
        "outputId": "58e7b447-c547-45cb-c173-426b726f0f83"
      },
      "outputs": [
        {
          "name": "stdout",
          "output_type": "stream",
          "text": [
            "· ¿Cuál es la velocidad? 30\n",
            "Su peso asociado es: 30\n",
            "· ¿Ritmo cardiaco? 110\n",
            "Su peso asociado es: 30\n",
            "· ¿Respiración? 25\n",
            "Su peso asociado es: 60\n",
            "Su umbral es: 10\n",
            "Su bias es: 4\n"
          ]
        },
        {
          "output_type": "execute_result",
          "data": {
            "text/plain": [
              "np.float64(1.0)"
            ]
          },
          "metadata": {},
          "execution_count": 7
        }
      ],
      "source": [
        "import numpy as np\n",
        "\n",
        "class Perceptron():\n",
        "    def __init__(self, entradas, pesos):\n",
        "        self.entradas = None\n",
        "        self.pesos = None\n",
        "\n",
        "    def decidir(self, treshold):\n",
        "      return None\n",
        "\n",
        "entradas, pesos  = [],[]\n",
        "\n",
        "preguntas = [\n",
        "     \"· ¿Cuál es la velocidad? \",\n",
        "    \"· ¿Ritmo cardiaco? \",\n",
        "    \"· ¿Respiración? \"\n",
        "]\n",
        "\n",
        "for pregunta in preguntas:\n",
        "    i = int(input(pregunta))\n",
        "    w = int(input(\"Su peso asociado es: \"))\n",
        "    entradas.append(i)\n",
        "    pesos.append(w)\n",
        "\n",
        "treshold = int(input(\"Su umbral es: \"))\n",
        "\n",
        "#perceptron = None\n",
        "perceptron = Perceptron(entradas, pesos)\n",
        "\n",
        "class Sigmoide():\n",
        "  def __init__(self, entradas, pesos):\n",
        "    self.entradas = np.array(entradas)\n",
        "    self.pesos = np.array(pesos)\n",
        "\n",
        "  def decide(self, bias):\n",
        "    return 1 / (1 + np.exp(-(np.dot(self.entradas, self.pesos) + bias)))\n",
        "\n",
        "bias = int(input(\"Su bias es: \"))\n",
        "sigmoide = Sigmoide(entradas, pesos)\n",
        "sigmoide.decide(bias)\n",
        "\n",
        "\n",
        "\n"
      ]
    }
  ]
}